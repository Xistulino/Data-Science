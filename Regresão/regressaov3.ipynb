{
 "cells": [
  {
   "cell_type": "markdown",
   "id": "8380a22a-1f7a-4dba-9d98-263f94b242ec",
   "metadata": {},
   "source": [
    "# Regressão Linear Simples"
   ]
  },
  {
   "cell_type": "markdown",
   "id": "902cc310-b736-4978-89b5-6efaa95df7f3",
   "metadata": {},
   "source": [
    "**Perguna de Negócio:** \n",
    "O salário de acordo com os anos de educação superior? Se sim, é possível construir um modelo que estime o salário de acordo com esses anos? "
   ]
  },
  {
   "cell_type": "code",
   "execution_count": 1,
   "id": "aacb4445-0d14-4dd9-b3cf-48235e15810b",
   "metadata": {},
   "outputs": [],
   "source": [
    "# Pacotes de manipulação de dados\n",
    "import numpy as np\n",
    "import pandas as pd\n",
    "\n",
    "# Pacotes gráficos\n",
    "import matplotlib.pyplot as plt\n",
    "import seaborn as sns \n",
    "\n",
    "# pacotes de Modelagem Estatística\n",
    "import statsmodels.api as sm"
   ]
  },
  {
   "cell_type": "code",
   "execution_count": null,
   "id": "126fb4c2-3271-40e5-bc84-d25f4edefa13",
   "metadata": {},
   "outputs": [],
   "source": []
  },
  {
   "cell_type": "markdown",
   "id": "b8334bc3-59da-4f51-93e9-ead89ad60494",
   "metadata": {},
   "source": [
    "# Importação da base de dados"
   ]
  },
  {
   "cell_type": "code",
   "execution_count": 12,
   "id": "5100b2ad-6f8b-4eac-a98a-deb2611530ad",
   "metadata": {},
   "outputs": [],
   "source": [
    "df = pd.read_csv('base1.csv',\n",
    "                 sep=';',\n",
    "                 index_col='id')"
   ]
  },
  {
   "cell_type": "code",
   "execution_count": 13,
   "id": "8ec77452-a2a3-4e78-a27b-de100f117fba",
   "metadata": {},
   "outputs": [
    {
     "data": {
      "text/plain": [
       "(46, 2)"
      ]
     },
     "execution_count": 13,
     "metadata": {},
     "output_type": "execute_result"
    }
   ],
   "source": [
    "df.shape"
   ]
  },
  {
   "cell_type": "code",
   "execution_count": 24,
   "id": "f1ba547e-157e-48e0-a575-abb3ad457ac2",
   "metadata": {},
   "outputs": [
    {
     "data": {
      "text/plain": [
       "Salario               float64\n",
       "Anos_Educ_Superior      int64\n",
       "Tempo_Empresa           int64\n",
       "dtype: object"
      ]
     },
     "execution_count": 24,
     "metadata": {},
     "output_type": "execute_result"
    }
   ],
   "source": [
    "df.dtypes"
   ]
  },
  {
   "cell_type": "code",
   "execution_count": 19,
   "id": "5650f81d-46c1-467c-986e-642a7b237853",
   "metadata": {},
   "outputs": [
    {
     "data": {
      "text/html": [
       "<div>\n",
       "<style scoped>\n",
       "    .dataframe tbody tr th:only-of-type {\n",
       "        vertical-align: middle;\n",
       "    }\n",
       "\n",
       "    .dataframe tbody tr th {\n",
       "        vertical-align: top;\n",
       "    }\n",
       "\n",
       "    .dataframe thead th {\n",
       "        text-align: right;\n",
       "    }\n",
       "</style>\n",
       "<table border=\"1\" class=\"dataframe\">\n",
       "  <thead>\n",
       "    <tr style=\"text-align: right;\">\n",
       "      <th></th>\n",
       "      <th>Salario</th>\n",
       "      <th>Anos_Educ_Superior</th>\n",
       "    </tr>\n",
       "    <tr>\n",
       "      <th>id</th>\n",
       "      <th></th>\n",
       "      <th></th>\n",
       "    </tr>\n",
       "  </thead>\n",
       "  <tbody>\n",
       "    <tr>\n",
       "      <th>1</th>\n",
       "      <td>5517.4</td>\n",
       "      <td>3</td>\n",
       "    </tr>\n",
       "    <tr>\n",
       "      <th>2</th>\n",
       "      <td>6399.9</td>\n",
       "      <td>4</td>\n",
       "    </tr>\n",
       "    <tr>\n",
       "      <th>3</th>\n",
       "      <td>6206.7</td>\n",
       "      <td>6</td>\n",
       "    </tr>\n",
       "    <tr>\n",
       "      <th>4</th>\n",
       "      <td>6060.6</td>\n",
       "      <td>4</td>\n",
       "    </tr>\n",
       "    <tr>\n",
       "      <th>5</th>\n",
       "      <td>6122.7</td>\n",
       "      <td>2</td>\n",
       "    </tr>\n",
       "  </tbody>\n",
       "</table>\n",
       "</div>"
      ],
      "text/plain": [
       "    Salario  Anos_Educ_Superior\n",
       "id                             \n",
       "1    5517.4                   3\n",
       "2    6399.9                   4\n",
       "3    6206.7                   6\n",
       "4    6060.6                   4\n",
       "5    6122.7                   2"
      ]
     },
     "execution_count": 19,
     "metadata": {},
     "output_type": "execute_result"
    }
   ],
   "source": [
    "df.head()"
   ]
  },
  {
   "cell_type": "code",
   "execution_count": 20,
   "id": "45dba34f-4d79-402b-bfe5-00b290b9b0f1",
   "metadata": {},
   "outputs": [],
   "source": [
    "df = pd.read_csv('base2.csv',\n",
    "           sep=';',\n",
    "           index_col='id')"
   ]
  },
  {
   "cell_type": "code",
   "execution_count": 21,
   "id": "af0c7be4-d4f5-4dca-a6fd-b8fef718a10d",
   "metadata": {},
   "outputs": [
    {
     "data": {
      "text/html": [
       "<div>\n",
       "<style scoped>\n",
       "    .dataframe tbody tr th:only-of-type {\n",
       "        vertical-align: middle;\n",
       "    }\n",
       "\n",
       "    .dataframe tbody tr th {\n",
       "        vertical-align: top;\n",
       "    }\n",
       "\n",
       "    .dataframe thead th {\n",
       "        text-align: right;\n",
       "    }\n",
       "</style>\n",
       "<table border=\"1\" class=\"dataframe\">\n",
       "  <thead>\n",
       "    <tr style=\"text-align: right;\">\n",
       "      <th></th>\n",
       "      <th>Salario</th>\n",
       "      <th>Anos_Educ_Superior</th>\n",
       "      <th>Tempo_Empresa</th>\n",
       "    </tr>\n",
       "    <tr>\n",
       "      <th>id</th>\n",
       "      <th></th>\n",
       "      <th></th>\n",
       "      <th></th>\n",
       "    </tr>\n",
       "  </thead>\n",
       "  <tbody>\n",
       "    <tr>\n",
       "      <th>1</th>\n",
       "      <td>5517.4</td>\n",
       "      <td>3</td>\n",
       "      <td>3</td>\n",
       "    </tr>\n",
       "    <tr>\n",
       "      <th>2</th>\n",
       "      <td>6399.9</td>\n",
       "      <td>4</td>\n",
       "      <td>6</td>\n",
       "    </tr>\n",
       "    <tr>\n",
       "      <th>3</th>\n",
       "      <td>6206.7</td>\n",
       "      <td>6</td>\n",
       "      <td>3</td>\n",
       "    </tr>\n",
       "    <tr>\n",
       "      <th>4</th>\n",
       "      <td>6060.6</td>\n",
       "      <td>4</td>\n",
       "      <td>5</td>\n",
       "    </tr>\n",
       "    <tr>\n",
       "      <th>5</th>\n",
       "      <td>6122.7</td>\n",
       "      <td>2</td>\n",
       "      <td>9</td>\n",
       "    </tr>\n",
       "  </tbody>\n",
       "</table>\n",
       "</div>"
      ],
      "text/plain": [
       "    Salario  Anos_Educ_Superior  Tempo_Empresa\n",
       "id                                            \n",
       "1    5517.4                   3              3\n",
       "2    6399.9                   4              6\n",
       "3    6206.7                   6              3\n",
       "4    6060.6                   4              5\n",
       "5    6122.7                   2              9"
      ]
     },
     "execution_count": 21,
     "metadata": {},
     "output_type": "execute_result"
    }
   ],
   "source": [
    "df.head()"
   ]
  },
  {
   "cell_type": "code",
   "execution_count": 22,
   "id": "7f6f1093-d117-4faf-85b5-6471ce3ee833",
   "metadata": {},
   "outputs": [
    {
     "data": {
      "text/plain": [
       "Salario               float64\n",
       "Anos_Educ_Superior      int64\n",
       "Tempo_Empresa           int64\n",
       "dtype: object"
      ]
     },
     "execution_count": 22,
     "metadata": {},
     "output_type": "execute_result"
    }
   ],
   "source": [
    "df.dtypes"
   ]
  },
  {
   "cell_type": "code",
   "execution_count": 37,
   "id": "95c6a27c-8931-41f5-aef6-3abedae12800",
   "metadata": {},
   "outputs": [],
   "source": [
    "df = pd.read_csv('base3.csv',\n",
    "                 sep=',',\n",
    "                 index_col='id')"
   ]
  },
  {
   "cell_type": "code",
   "execution_count": 38,
   "id": "d419a329-0295-4b1a-842b-090c88c2b193",
   "metadata": {},
   "outputs": [
    {
     "data": {
      "text/plain": [
       "(46, 4)"
      ]
     },
     "execution_count": 38,
     "metadata": {},
     "output_type": "execute_result"
    }
   ],
   "source": [
    "df.shape"
   ]
  },
  {
   "cell_type": "code",
   "execution_count": 27,
   "id": "a6542f5d-6ada-4374-a504-6ffa8b29940f",
   "metadata": {},
   "outputs": [
    {
     "data": {
      "text/html": [
       "<div>\n",
       "<style scoped>\n",
       "    .dataframe tbody tr th:only-of-type {\n",
       "        vertical-align: middle;\n",
       "    }\n",
       "\n",
       "    .dataframe tbody tr th {\n",
       "        vertical-align: top;\n",
       "    }\n",
       "\n",
       "    .dataframe thead th {\n",
       "        text-align: right;\n",
       "    }\n",
       "</style>\n",
       "<table border=\"1\" class=\"dataframe\">\n",
       "  <thead>\n",
       "    <tr style=\"text-align: right;\">\n",
       "      <th></th>\n",
       "      <th>Salario</th>\n",
       "      <th>Anos_Educ_Superior</th>\n",
       "      <th>Tempo_Empresa</th>\n",
       "      <th>Tempo_de_Carreira</th>\n",
       "    </tr>\n",
       "    <tr>\n",
       "      <th>id</th>\n",
       "      <th></th>\n",
       "      <th></th>\n",
       "      <th></th>\n",
       "      <th></th>\n",
       "    </tr>\n",
       "  </thead>\n",
       "  <tbody>\n",
       "    <tr>\n",
       "      <th>0</th>\n",
       "      <td>5517.4</td>\n",
       "      <td>3</td>\n",
       "      <td>3</td>\n",
       "      <td>9.777079</td>\n",
       "    </tr>\n",
       "    <tr>\n",
       "      <th>1</th>\n",
       "      <td>6399.9</td>\n",
       "      <td>4</td>\n",
       "      <td>6</td>\n",
       "      <td>3.765998</td>\n",
       "    </tr>\n",
       "    <tr>\n",
       "      <th>2</th>\n",
       "      <td>6206.7</td>\n",
       "      <td>6</td>\n",
       "      <td>3</td>\n",
       "      <td>7.926264</td>\n",
       "    </tr>\n",
       "    <tr>\n",
       "      <th>3</th>\n",
       "      <td>6060.6</td>\n",
       "      <td>4</td>\n",
       "      <td>5</td>\n",
       "      <td>2.233497</td>\n",
       "    </tr>\n",
       "    <tr>\n",
       "      <th>4</th>\n",
       "      <td>6122.7</td>\n",
       "      <td>2</td>\n",
       "      <td>9</td>\n",
       "      <td>26.821842</td>\n",
       "    </tr>\n",
       "  </tbody>\n",
       "</table>\n",
       "</div>"
      ],
      "text/plain": [
       "    Salario  Anos_Educ_Superior  Tempo_Empresa  Tempo_de_Carreira\n",
       "id                                                               \n",
       "0    5517.4                   3              3           9.777079\n",
       "1    6399.9                   4              6           3.765998\n",
       "2    6206.7                   6              3           7.926264\n",
       "3    6060.6                   4              5           2.233497\n",
       "4    6122.7                   2              9          26.821842"
      ]
     },
     "execution_count": 27,
     "metadata": {},
     "output_type": "execute_result"
    }
   ],
   "source": [
    "df.head()"
   ]
  },
  {
   "cell_type": "code",
   "execution_count": 39,
   "id": "f475cac8-706a-4d67-b126-50847100d9ed",
   "metadata": {},
   "outputs": [
    {
     "data": {
      "text/html": [
       "<div>\n",
       "<style scoped>\n",
       "    .dataframe tbody tr th:only-of-type {\n",
       "        vertical-align: middle;\n",
       "    }\n",
       "\n",
       "    .dataframe tbody tr th {\n",
       "        vertical-align: top;\n",
       "    }\n",
       "\n",
       "    .dataframe thead th {\n",
       "        text-align: right;\n",
       "    }\n",
       "</style>\n",
       "<table border=\"1\" class=\"dataframe\">\n",
       "  <thead>\n",
       "    <tr style=\"text-align: right;\">\n",
       "      <th></th>\n",
       "      <th>Salario</th>\n",
       "      <th>Anos_Educ_Superior</th>\n",
       "      <th>Tempo_Empresa</th>\n",
       "      <th>Tempo_de_Carreira</th>\n",
       "    </tr>\n",
       "    <tr>\n",
       "      <th>id</th>\n",
       "      <th></th>\n",
       "      <th></th>\n",
       "      <th></th>\n",
       "      <th></th>\n",
       "    </tr>\n",
       "  </thead>\n",
       "  <tbody>\n",
       "    <tr>\n",
       "      <th>41</th>\n",
       "      <td>5499.4</td>\n",
       "      <td>5</td>\n",
       "      <td>7</td>\n",
       "      <td>16.338779</td>\n",
       "    </tr>\n",
       "    <tr>\n",
       "      <th>42</th>\n",
       "      <td>8521.6</td>\n",
       "      <td>8</td>\n",
       "      <td>6</td>\n",
       "      <td>17.720932</td>\n",
       "    </tr>\n",
       "    <tr>\n",
       "      <th>43</th>\n",
       "      <td>5170.9</td>\n",
       "      <td>1</td>\n",
       "      <td>5</td>\n",
       "      <td>4.570466</td>\n",
       "    </tr>\n",
       "    <tr>\n",
       "      <th>44</th>\n",
       "      <td>6235.4</td>\n",
       "      <td>4</td>\n",
       "      <td>6</td>\n",
       "      <td>6.578993</td>\n",
       "    </tr>\n",
       "    <tr>\n",
       "      <th>45</th>\n",
       "      <td>11460.2</td>\n",
       "      <td>12</td>\n",
       "      <td>27</td>\n",
       "      <td>67.858714</td>\n",
       "    </tr>\n",
       "  </tbody>\n",
       "</table>\n",
       "</div>"
      ],
      "text/plain": [
       "    Salario  Anos_Educ_Superior  Tempo_Empresa  Tempo_de_Carreira\n",
       "id                                                               \n",
       "41   5499.4                   5              7          16.338779\n",
       "42   8521.6                   8              6          17.720932\n",
       "43   5170.9                   1              5           4.570466\n",
       "44   6235.4                   4              6           6.578993\n",
       "45  11460.2                  12             27          67.858714"
      ]
     },
     "execution_count": 39,
     "metadata": {},
     "output_type": "execute_result"
    }
   ],
   "source": [
    "df.tail()"
   ]
  },
  {
   "cell_type": "code",
   "execution_count": 29,
   "id": "26ce7d82-bd60-4226-b280-bd9cd2a5dd08",
   "metadata": {},
   "outputs": [
    {
     "data": {
      "text/plain": [
       "Salario               float64\n",
       "Anos_Educ_Superior      int64\n",
       "Tempo_Empresa           int64\n",
       "Tempo_de_Carreira     float64\n",
       "dtype: object"
      ]
     },
     "execution_count": 29,
     "metadata": {},
     "output_type": "execute_result"
    }
   ],
   "source": [
    "df.dtypes"
   ]
  },
  {
   "cell_type": "markdown",
   "id": "852a7dce-4969-497e-98d6-b8245f9914de",
   "metadata": {},
   "source": [
    "# Análise Exploratória dos Dados"
   ]
  },
  {
   "cell_type": "code",
   "execution_count": 45,
   "id": "95850048-88ea-4451-813d-3abd239451c4",
   "metadata": {},
   "outputs": [
    {
     "data": {
      "text/plain": [
       "[<matplotlib.lines.Line2D at 0x1b94a7d3910>]"
      ]
     },
     "execution_count": 45,
     "metadata": {},
     "output_type": "execute_result"
    },
    {
     "data": {
      "image/png": "[encoded data removed]",
      "text/plain": [
       "<Figure size 1500x500 with 3 Axes>"
      ]
     },
     "metadata": {},
     "output_type": "display_data"
    }
   ],
   "source": [
    "# Gráfico de Dispersão\n",
    "fig,(ax1,ax2,ax3) = plt.subplots(1,3,sharey=True, figsize=(15,5)) # uma forma de usar os dois gráficos\n",
    "ax1.set_title('Anos Educação')\n",
    "ax2.set_title('Tempo Empresa')\n",
    "ax3.set_title('Tempo de Carreira')\n",
    "\n",
    "ax1.set_xlabel('Anos Superior')\n",
    "ax1.set_ylabel('Salário')\n",
    "\n",
    "ax2.set_xlabel('Tempo Empresa')\n",
    "ax2.set_ylabel('Salário')\n",
    "\n",
    "ax3.set_xlabel('Tempo de Carreira')\n",
    "ax3.set_xlabel('Salário')\n",
    "\n",
    "ax1.scatter(df['Anos_Educ_Superior'], df['Salario'])\n",
    "m, b = np.polyfit(df['Anos_Educ_Superior'], df['Salario'], 1)\n",
    "ax1.plot(df['Anos_Educ_Superior'],m * df['Anos_Educ_Superior'] + b)\n",
    "\n",
    "ax2.scatter(df['Tempo_Empresa'], df['Salario'])\n",
    "m, b = np.polyfit(df['Tempo_Empresa'], df['Salario'], 1)\n",
    "ax2.plot(df['Tempo_Empresa'],m * df['Tempo_Empresa'] + b)\n",
    "\n",
    "ax3.scatter(df['Tempo_de_Carreira'], df['Salario'])\n",
    "m, b = np.polyfit(df['Tempo_de_Carreira'], df['Salario'],1)\n",
    "ax3.plot(df['Tempo_de_Carreira'],m*df['Tempo_de_Carreira']+ b)\n",
    "\n"
   ]
  },
  {
   "cell_type": "code",
   "execution_count": 46,
   "id": "b431d50d-a13c-438a-85f3-d94cac128a43",
   "metadata": {},
   "outputs": [
    {
     "data": {
      "text/plain": [
       "<Axes: >"
      ]
     },
     "execution_count": 46,
     "metadata": {},
     "output_type": "execute_result"
    },
    {
     "data": {
      "image/png": "[encoded data removed]",
      "text/plain": [
       "<Figure size 800x600 with 2 Axes>"
      ]
     },
     "metadata": {},
     "output_type": "display_data"
    }
   ],
   "source": [
    "# Correlação Linear de Pearson\n",
    "fig = plt.figure(figsize=(8,6))\n",
    "sns.heatmap(\n",
    "            df.corr(),\n",
    "            cmap='RdBu_r',\n",
    "            vmin=-1, vmax=1,\n",
    "            annot=True\n",
    "           )"
   ]
  },
  {
   "cell_type": "markdown",
   "id": "06877198-a5c2-4fe8-8864-6d279e21d1a9",
   "metadata": {},
   "source": [
    "## Ajuste do Modelo de Regressão Statsmodels"
   ]
  },
  {
   "cell_type": "code",
   "execution_count": 50,
   "id": "a772823b-f3ff-4a73-ae37-446bbfd36952",
   "metadata": {},
   "outputs": [],
   "source": [
    "# Variável Resposta\n",
    "y = df['Salario'] #váriável resposta\n",
    "\n",
    "# Variável Explicativa\n",
    "df['intercepto'] = 1\n",
    "x = df[['intercepto', 'Anos_Educ_Superior', 'Tempo_Empresa', 'Tempo_de_Carreira']] #váriavel explicativa"
   ]
  },
  {
   "cell_type": "code",
   "execution_count": null,
   "id": "4e3947c2-fbb6-4cda-82e7-2fd2424bfb0f",
   "metadata": {},
   "outputs": [],
   "source": []
  },
  {
   "cell_type": "code",
   "execution_count": 51,
   "id": "387fe664-d8a8-4be0-b5ad-6b1a938a57da",
   "metadata": {},
   "outputs": [],
   "source": [
    "# Ajuste do nosso modelo\n",
    "modelo = sm.OLS(y,x)\n",
    "resultado = modelo.fit()"
   ]
  },
  {
   "cell_type": "code",
   "execution_count": 52,
   "id": "3f26d1ef-0ebf-475f-a28c-7ef04b99a185",
   "metadata": {},
   "outputs": [
    {
     "name": "stdout",
     "output_type": "stream",
     "text": [
      "                            OLS Regression Results                            \n",
      "==============================================================================\n",
      "Dep. Variable:                Salario   R-squared:                       0.748\n",
      "Model:                            OLS   Adj. R-squared:                  0.730\n",
      "Method:                 Least Squares   F-statistic:                     41.61\n",
      "Date:                Sat, 29 Jun 2024   Prob (F-statistic):           1.21e-12\n",
      "Time:                        16:38:51   Log-Likelihood:                -380.92\n",
      "No. Observations:                  46   AIC:                             769.8\n",
      "Df Residuals:                      42   BIC:                             777.2\n",
      "Df Model:                           3                                         \n",
      "Covariance Type:            nonrobust                                         \n",
      "======================================================================================\n",
      "                         coef    std err          t      P>|t|      [0.025      0.975]\n",
      "--------------------------------------------------------------------------------------\n",
      "intercepto          4053.7618    308.316     13.148      0.000    3431.555    4675.968\n",
      "Anos_Educ_Superior   347.7110     66.895      5.198      0.000     212.711     482.711\n",
      "Tempo_Empresa        178.4495     57.173      3.121      0.003      63.071     293.828\n",
      "Tempo_de_Carreira    -32.4562     27.533     -1.179      0.245     -88.019      23.107\n",
      "==============================================================================\n",
      "Omnibus:                        9.003   Durbin-Watson:                   1.988\n",
      "Prob(Omnibus):                  0.011   Jarque-Bera (JB):                9.051\n",
      "Skew:                          -0.750   Prob(JB):                       0.0108\n",
      "Kurtosis:                       4.572   Cond. No.                         62.6\n",
      "==============================================================================\n",
      "\n",
      "Notes:\n",
      "[1] Standard Errors assume that the covariance matrix of the errors is correctly specified.\n"
     ]
    }
   ],
   "source": [
    "# Resultado do ajuste\n",
    "print(resultado.summary())"
   ]
  },
  {
   "cell_type": "code",
   "execution_count": null,
   "id": "2a79f448-a4a1-48af-ace5-5eb2b0729ef6",
   "metadata": {},
   "outputs": [],
   "source": []
  },
  {
   "cell_type": "code",
   "execution_count": null,
   "id": "14f390ff-be0e-4da6-8aa2-feaa7d0e5027",
   "metadata": {},
   "outputs": [],
   "source": []
  },
  {
   "cell_type": "code",
   "execution_count": null,
   "id": "03cef546-3500-4a41-8fb3-98a975ce1442",
   "metadata": {},
   "outputs": [],
   "source": []
  },
  {
   "cell_type": "code",
   "execution_count": null,
   "id": "4c5fe48d-d0bc-4cf6-bf96-0b15bfc0fa60",
   "metadata": {},
   "outputs": [],
   "source": []
  },
  {
   "cell_type": "code",
   "execution_count": null,
   "id": "f3deb3e6-9d2e-48b1-8d1d-1ee6f09716bb",
   "metadata": {},
   "outputs": [],
   "source": []
  }
 ],
 "metadata": {
  "kernelspec": {
   "display_name": "Python 3 (ipykernel)",
   "language": "python",
   "name": "python3"
  },
  "language_info": {
   "codemirror_mode": {
    "name": "ipython",
    "version": 3
   },
   "file_extension": ".py",
   "mimetype": "text/x-python",
   "name": "python",
   "nbconvert_exporter": "python",
   "pygments_lexer": "ipython3",
   "version": "3.11.7"
  },
  "widgets": {
   "application/vnd.jupyter.widget-state+json": {
    "state": {},
    "version_major": 2,
    "version_minor": 0
   }
  }
 },
 "nbformat": 4,
 "nbformat_minor": 5
}
