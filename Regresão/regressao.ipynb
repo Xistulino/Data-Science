{
 "cells": [
  {
   "cell_type": "markdown",
   "id": "8380a22a-1f7a-4dba-9d98-263f94b242ec",
   "metadata": {},
   "source": [
    "# Regressão Linear Simples"
   ]
  },
  {
   "cell_type": "markdown",
   "id": "902cc310-b736-4978-89b5-6efaa95df7f3",
   "metadata": {},
   "source": [
    "**Perguna de Negócio:** \n",
    "O salário de acordo com os anos de educação superior? Se sim, é possível construir um modelo que estime o salário de acordo com esses anos? "
   ]
  },
  {
   "cell_type": "code",
   "execution_count": 3,
   "id": "aacb4445-0d14-4dd9-b3cf-48235e15810b",
   "metadata": {},
   "outputs": [],
   "source": [
    "# Pacotes de manipulação de dados\n",
    "import numpy as np\n",
    "import pandas as pd\n",
    "\n",
    "# Pacotes gráficos\n",
    "import matplotlib.pyplot as plt\n",
    "import seaborn as sns \n",
    "\n",
    "# pacotes de Modelagem Estatística\n",
    "import statsmodels.api as sm"
   ]
  },
  {
   "cell_type": "code",
   "execution_count": null,
   "id": "126fb4c2-3271-40e5-bc84-d25f4edefa13",
   "metadata": {},
   "outputs": [],
   "source": []
  },
  {
   "cell_type": "markdown",
   "id": "b8334bc3-59da-4f51-93e9-ead89ad60494",
   "metadata": {},
   "source": [
    "# Importação da base de dados"
   ]
  },
  {
   "cell_type": "code",
   "execution_count": 15,
   "id": "45dba34f-4d79-402b-bfe5-00b290b9b0f1",
   "metadata": {},
   "outputs": [],
   "source": [
    "df = pd.read_csv('base1.csv',\n",
    "           sep=';',\n",
    "           index_col='id')"
   ]
  },
  {
   "cell_type": "code",
   "execution_count": 18,
   "id": "a6542f5d-6ada-4374-a504-6ffa8b29940f",
   "metadata": {},
   "outputs": [
    {
     "data": {
      "text/html": [
       "<div>\n",
       "<style scoped>\n",
       "    .dataframe tbody tr th:only-of-type {\n",
       "        vertical-align: middle;\n",
       "    }\n",
       "\n",
       "    .dataframe tbody tr th {\n",
       "        vertical-align: top;\n",
       "    }\n",
       "\n",
       "    .dataframe thead th {\n",
       "        text-align: right;\n",
       "    }\n",
       "</style>\n",
       "<table border=\"1\" class=\"dataframe\">\n",
       "  <thead>\n",
       "    <tr style=\"text-align: right;\">\n",
       "      <th></th>\n",
       "      <th>Salario</th>\n",
       "      <th>Anos_Educ_Superior</th>\n",
       "    </tr>\n",
       "    <tr>\n",
       "      <th>id</th>\n",
       "      <th></th>\n",
       "      <th></th>\n",
       "    </tr>\n",
       "  </thead>\n",
       "  <tbody>\n",
       "    <tr>\n",
       "      <th>1</th>\n",
       "      <td>5517.4</td>\n",
       "      <td>3</td>\n",
       "    </tr>\n",
       "    <tr>\n",
       "      <th>2</th>\n",
       "      <td>6399.9</td>\n",
       "      <td>4</td>\n",
       "    </tr>\n",
       "    <tr>\n",
       "      <th>3</th>\n",
       "      <td>6206.7</td>\n",
       "      <td>6</td>\n",
       "    </tr>\n",
       "    <tr>\n",
       "      <th>4</th>\n",
       "      <td>6060.6</td>\n",
       "      <td>4</td>\n",
       "    </tr>\n",
       "    <tr>\n",
       "      <th>5</th>\n",
       "      <td>6122.7</td>\n",
       "      <td>2</td>\n",
       "    </tr>\n",
       "  </tbody>\n",
       "</table>\n",
       "</div>"
      ],
      "text/plain": [
       "    Salario  Anos_Educ_Superior\n",
       "id                             \n",
       "1    5517.4                   3\n",
       "2    6399.9                   4\n",
       "3    6206.7                   6\n",
       "4    6060.6                   4\n",
       "5    6122.7                   2"
      ]
     },
     "execution_count": 18,
     "metadata": {},
     "output_type": "execute_result"
    }
   ],
   "source": [
    "df.head()"
   ]
  },
  {
   "cell_type": "code",
   "execution_count": 17,
   "id": "f475cac8-706a-4d67-b126-50847100d9ed",
   "metadata": {},
   "outputs": [
    {
     "data": {
      "text/html": [
       "<div>\n",
       "<style scoped>\n",
       "    .dataframe tbody tr th:only-of-type {\n",
       "        vertical-align: middle;\n",
       "    }\n",
       "\n",
       "    .dataframe tbody tr th {\n",
       "        vertical-align: top;\n",
       "    }\n",
       "\n",
       "    .dataframe thead th {\n",
       "        text-align: right;\n",
       "    }\n",
       "</style>\n",
       "<table border=\"1\" class=\"dataframe\">\n",
       "  <thead>\n",
       "    <tr style=\"text-align: right;\">\n",
       "      <th></th>\n",
       "      <th>Salario</th>\n",
       "      <th>Anos_Educ_Superior</th>\n",
       "    </tr>\n",
       "    <tr>\n",
       "      <th>id</th>\n",
       "      <th></th>\n",
       "      <th></th>\n",
       "    </tr>\n",
       "  </thead>\n",
       "  <tbody>\n",
       "    <tr>\n",
       "      <th>42</th>\n",
       "      <td>5499.4</td>\n",
       "      <td>5</td>\n",
       "    </tr>\n",
       "    <tr>\n",
       "      <th>43</th>\n",
       "      <td>8521.6</td>\n",
       "      <td>8</td>\n",
       "    </tr>\n",
       "    <tr>\n",
       "      <th>44</th>\n",
       "      <td>5170.9</td>\n",
       "      <td>1</td>\n",
       "    </tr>\n",
       "    <tr>\n",
       "      <th>45</th>\n",
       "      <td>6235.4</td>\n",
       "      <td>4</td>\n",
       "    </tr>\n",
       "    <tr>\n",
       "      <th>46</th>\n",
       "      <td>11460.2</td>\n",
       "      <td>12</td>\n",
       "    </tr>\n",
       "  </tbody>\n",
       "</table>\n",
       "</div>"
      ],
      "text/plain": [
       "    Salario  Anos_Educ_Superior\n",
       "id                             \n",
       "42   5499.4                   5\n",
       "43   8521.6                   8\n",
       "44   5170.9                   1\n",
       "45   6235.4                   4\n",
       "46  11460.2                  12"
      ]
     },
     "execution_count": 17,
     "metadata": {},
     "output_type": "execute_result"
    }
   ],
   "source": [
    "df.tail()"
   ]
  },
  {
   "cell_type": "code",
   "execution_count": 16,
   "id": "26ce7d82-bd60-4226-b280-bd9cd2a5dd08",
   "metadata": {},
   "outputs": [
    {
     "data": {
      "text/plain": [
       "Salario               float64\n",
       "Anos_Educ_Superior      int64\n",
       "dtype: object"
      ]
     },
     "execution_count": 16,
     "metadata": {},
     "output_type": "execute_result"
    }
   ],
   "source": [
    "df.dtypes"
   ]
  },
  {
   "cell_type": "markdown",
   "id": "852a7dce-4969-497e-98d6-b8245f9914de",
   "metadata": {},
   "source": [
    "# Análise Exploratória dos Dados"
   ]
  },
  {
   "cell_type": "code",
   "execution_count": 29,
   "id": "bc15bf2d-b220-4c92-b8a7-99cd27cd4db4",
   "metadata": {},
   "outputs": [
    {
     "data": {
      "text/plain": [
       "<Axes: xlabel='Anos_Educ_Superior', ylabel='Salario'>"
      ]
     },
     "execution_count": 29,
     "metadata": {},
     "output_type": "execute_result"
    },
    {
     "data": {
      "image/png": "[encoded data removed]",
      "text/plain": [
       "<Figure size 640x480 with 1 Axes>"
      ]
     },
     "metadata": {},
     "output_type": "display_data"
    }
   ],
   "source": [
    "# Gráfico de Dispersão\n",
    "sns.scatterplot(x=df['Anos_Educ_Superior'],\n",
    "                y=df['Salario'])"
   ]
  },
  {
   "cell_type": "code",
   "execution_count": 33,
   "id": "b431d50d-a13c-438a-85f3-d94cac128a43",
   "metadata": {},
   "outputs": [
    {
     "data": {
      "text/plain": [
       "<Axes: >"
      ]
     },
     "execution_count": 33,
     "metadata": {},
     "output_type": "execute_result"
    },
    {
     "data": {
      "image/png": "[encoded data removed]",
      "text/plain": [
       "<Figure size 800x600 with 2 Axes>"
      ]
     },
     "metadata": {},
     "output_type": "display_data"
    }
   ],
   "source": [
    "# Correlação Linear de Pearson\n",
    "fig = plt.figure(figsize=(8,6))\n",
    "sns.heatmap(\n",
    "            df.corr(),\n",
    "            cmap='RdBu_r',\n",
    "            vmin=-1, vmax=1,\n",
    "            annot=True\n",
    "           )"
   ]
  },
  {
   "cell_type": "markdown",
   "id": "06877198-a5c2-4fe8-8864-6d279e21d1a9",
   "metadata": {},
   "source": [
    "## Ajuste do Modelo de Regressão Statsmodels"
   ]
  },
  {
   "cell_type": "code",
   "execution_count": null,
   "id": "83b5de19-cca5-4113-84a2-9b786ace4ef7",
   "metadata": {},
   "outputs": [],
   "source": []
  },
  {
   "cell_type": "code",
   "execution_count": 35,
   "id": "a772823b-f3ff-4a73-ae37-446bbfd36952",
   "metadata": {},
   "outputs": [],
   "source": [
    "# Variável Resposta\n",
    "y = df['Salario']\n",
    "\n",
    "# Variável Explicativa\n",
    "df['intercepto'] = 1\n",
    "x = df[['intercepto', 'Anos_Educ_Superior']]"
   ]
  },
  {
   "cell_type": "code",
   "execution_count": null,
   "id": "4e3947c2-fbb6-4cda-82e7-2fd2424bfb0f",
   "metadata": {},
   "outputs": [],
   "source": []
  },
  {
   "cell_type": "code",
   "execution_count": 38,
   "id": "387fe664-d8a8-4be0-b5ad-6b1a938a57da",
   "metadata": {},
   "outputs": [],
   "source": [
    "# Ajuste do nosso modelo\n",
    "modelo = sm.OLS(y,x)\n",
    "resultado = modelo.fit()"
   ]
  },
  {
   "cell_type": "code",
   "execution_count": 40,
   "id": "3f26d1ef-0ebf-475f-a28c-7ef04b99a185",
   "metadata": {},
   "outputs": [
    {
     "name": "stdout",
     "output_type": "stream",
     "text": [
      "                            OLS Regression Results                            \n",
      "==============================================================================\n",
      "Dep. Variable:                Salario   R-squared:                       0.604\n",
      "Model:                            OLS   Adj. R-squared:                  0.595\n",
      "Method:                 Least Squares   F-statistic:                     67.03\n",
      "Date:                Sat, 29 Jun 2024   Prob (F-statistic):           2.18e-10\n",
      "Time:                        11:42:06   Log-Likelihood:                -391.36\n",
      "No. Observations:                  46   AIC:                             786.7\n",
      "Df Residuals:                      44   BIC:                             790.4\n",
      "Df Model:                           1                                         \n",
      "Covariance Type:            nonrobust                                         \n",
      "======================================================================================\n",
      "                         coef    std err          t      P>|t|      [0.025      0.975]\n",
      "--------------------------------------------------------------------------------------\n",
      "intercepto          4301.7990    372.608     11.545      0.000    3550.857    5052.741\n",
      "Anos_Educ_Superior   526.7294     64.335      8.187      0.000     397.070     656.388\n",
      "==============================================================================\n",
      "Omnibus:                        1.575   Durbin-Watson:                   1.773\n",
      "Prob(Omnibus):                  0.455   Jarque-Bera (JB):                0.935\n",
      "Skew:                          -0.336   Prob(JB):                        0.627\n",
      "Kurtosis:                       3.193   Cond. No.                         12.2\n",
      "==============================================================================\n",
      "\n",
      "Notes:\n",
      "[1] Standard Errors assume that the covariance matrix of the errors is correctly specified.\n"
     ]
    }
   ],
   "source": [
    "# Resultado do ajuste\n",
    "print(resultado.summary())"
   ]
  },
  {
   "cell_type": "code",
   "execution_count": null,
   "id": "2a79f448-a4a1-48af-ace5-5eb2b0729ef6",
   "metadata": {},
   "outputs": [],
   "source": []
  },
  {
   "cell_type": "code",
   "execution_count": null,
   "id": "14f390ff-be0e-4da6-8aa2-feaa7d0e5027",
   "metadata": {},
   "outputs": [],
   "source": []
  },
  {
   "cell_type": "code",
   "execution_count": null,
   "id": "03cef546-3500-4a41-8fb3-98a975ce1442",
   "metadata": {},
   "outputs": [],
   "source": []
  },
  {
   "cell_type": "code",
   "execution_count": null,
   "id": "4c5fe48d-d0bc-4cf6-bf96-0b15bfc0fa60",
   "metadata": {},
   "outputs": [],
   "source": []
  },
  {
   "cell_type": "code",
   "execution_count": null,
   "id": "f3deb3e6-9d2e-48b1-8d1d-1ee6f09716bb",
   "metadata": {},
   "outputs": [],
   "source": []
  }
 ],
 "metadata": {
  "kernelspec": {
   "display_name": "Python 3 (ipykernel)",
   "language": "python",
   "name": "python3"
  },
  "language_info": {
   "codemirror_mode": {
    "name": "ipython",
    "version": 3
   },
   "file_extension": ".py",
   "mimetype": "text/x-python",
   "name": "python",
   "nbconvert_exporter": "python",
   "pygments_lexer": "ipython3",
   "version": "3.11.7"
  },
  "widgets": {
   "application/vnd.jupyter.widget-state+json": {
    "state": {},
    "version_major": 2,
    "version_minor": 0
   }
  }
 },
 "nbformat": 4,
 "nbformat_minor": 5
}
